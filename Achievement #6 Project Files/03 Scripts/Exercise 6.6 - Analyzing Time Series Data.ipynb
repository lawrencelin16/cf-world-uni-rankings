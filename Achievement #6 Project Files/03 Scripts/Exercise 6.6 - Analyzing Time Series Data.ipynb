{
 "cells": [
  {
   "cell_type": "markdown",
   "id": "27842e5f",
   "metadata": {},
   "source": [
    "## Importing libraries and data"
   ]
  },
  {
   "cell_type": "code",
   "execution_count": 1,
   "id": "a242ced5",
   "metadata": {},
   "outputs": [],
   "source": [
    "# Import libraries\n",
    "import quandl\n",
    "import pandas as pd\n",
    "import numpy as np\n",
    "import seaborn as sns\n",
    "import matplotlib\n",
    "import matplotlib.pyplot as plt\n",
    "import statsmodels.api as sm \n",
    "import os\n",
    "import warnings \n",
    "\n",
    "warnings.filterwarnings(\"ignore\") \n",
    "\n",
    "plt.style.use('fivethirtyeight') "
   ]
  },
  {
   "cell_type": "code",
   "execution_count": 2,
   "id": "dfad3d0a",
   "metadata": {},
   "outputs": [],
   "source": [
    "# Configure API key \n",
    "\n",
    "quandl.ApiConfig.api_key = 'zxSfYzyXoWD4WJRfVPRq'"
   ]
  },
  {
   "cell_type": "code",
   "execution_count": 3,
   "id": "f2f099f9",
   "metadata": {},
   "outputs": [],
   "source": [
    "# Import the university ratings data\n",
    "\n",
    "path = r'C:\\Users\\Lawrence\\Documents\\Career Foundry Projects\\Data Immersion\\Achievement #6\\Achievement #6 Project Files'\n",
    "ratings = pd.read_csv(os.path.join(path, '02 Project Datasets', 'Original Data', 'shanghai_uni_ratings.csv'), index_col = False)\n",
    "countries = pd.read_csv(os.path.join(path, '02 Project Datasets', 'Prepared Data', 'uni_countries.csv'), index_col = False)"
   ]
  },
  {
   "cell_type": "code",
   "execution_count": 4,
   "id": "90948814",
   "metadata": {
    "scrolled": true
   },
   "outputs": [
    {
     "data": {
      "text/html": [
       "<div>\n",
       "<style scoped>\n",
       "    .dataframe tbody tr th:only-of-type {\n",
       "        vertical-align: middle;\n",
       "    }\n",
       "\n",
       "    .dataframe tbody tr th {\n",
       "        vertical-align: top;\n",
       "    }\n",
       "\n",
       "    .dataframe thead th {\n",
       "        text-align: right;\n",
       "    }\n",
       "</style>\n",
       "<table border=\"1\" class=\"dataframe\">\n",
       "  <thead>\n",
       "    <tr style=\"text-align: right;\">\n",
       "      <th></th>\n",
       "      <th>world_rank</th>\n",
       "      <th>institution</th>\n",
       "      <th>national_rank</th>\n",
       "      <th>total_score</th>\n",
       "      <th>alumni</th>\n",
       "      <th>award</th>\n",
       "      <th>hici</th>\n",
       "      <th>ns</th>\n",
       "      <th>pub</th>\n",
       "      <th>pcp</th>\n",
       "      <th>year</th>\n",
       "    </tr>\n",
       "  </thead>\n",
       "  <tbody>\n",
       "    <tr>\n",
       "      <th>0</th>\n",
       "      <td>1</td>\n",
       "      <td>Harvard University</td>\n",
       "      <td>1</td>\n",
       "      <td>100.0</td>\n",
       "      <td>100.0</td>\n",
       "      <td>100.0</td>\n",
       "      <td>100.0</td>\n",
       "      <td>100.0</td>\n",
       "      <td>100.0</td>\n",
       "      <td>72.4</td>\n",
       "      <td>2005</td>\n",
       "    </tr>\n",
       "    <tr>\n",
       "      <th>1</th>\n",
       "      <td>2</td>\n",
       "      <td>University of Cambridge</td>\n",
       "      <td>1</td>\n",
       "      <td>73.6</td>\n",
       "      <td>99.8</td>\n",
       "      <td>93.4</td>\n",
       "      <td>53.3</td>\n",
       "      <td>56.6</td>\n",
       "      <td>70.9</td>\n",
       "      <td>66.9</td>\n",
       "      <td>2005</td>\n",
       "    </tr>\n",
       "    <tr>\n",
       "      <th>2</th>\n",
       "      <td>3</td>\n",
       "      <td>Stanford University</td>\n",
       "      <td>2</td>\n",
       "      <td>73.4</td>\n",
       "      <td>41.1</td>\n",
       "      <td>72.2</td>\n",
       "      <td>88.5</td>\n",
       "      <td>70.9</td>\n",
       "      <td>72.3</td>\n",
       "      <td>65.0</td>\n",
       "      <td>2005</td>\n",
       "    </tr>\n",
       "    <tr>\n",
       "      <th>3</th>\n",
       "      <td>4</td>\n",
       "      <td>University of California, Berkeley</td>\n",
       "      <td>3</td>\n",
       "      <td>72.8</td>\n",
       "      <td>71.8</td>\n",
       "      <td>76.0</td>\n",
       "      <td>69.4</td>\n",
       "      <td>73.9</td>\n",
       "      <td>72.2</td>\n",
       "      <td>52.7</td>\n",
       "      <td>2005</td>\n",
       "    </tr>\n",
       "    <tr>\n",
       "      <th>4</th>\n",
       "      <td>5</td>\n",
       "      <td>Massachusetts Institute of Technology (MIT)</td>\n",
       "      <td>4</td>\n",
       "      <td>70.1</td>\n",
       "      <td>74.0</td>\n",
       "      <td>80.6</td>\n",
       "      <td>66.7</td>\n",
       "      <td>65.8</td>\n",
       "      <td>64.3</td>\n",
       "      <td>53.0</td>\n",
       "      <td>2005</td>\n",
       "    </tr>\n",
       "  </tbody>\n",
       "</table>\n",
       "</div>"
      ],
      "text/plain": [
       "  world_rank                                  institution national_rank  \\\n",
       "0          1                           Harvard University             1   \n",
       "1          2                      University of Cambridge             1   \n",
       "2          3                          Stanford University             2   \n",
       "3          4           University of California, Berkeley             3   \n",
       "4          5  Massachusetts Institute of Technology (MIT)             4   \n",
       "\n",
       "   total_score  alumni  award   hici     ns    pub   pcp  year  \n",
       "0        100.0   100.0  100.0  100.0  100.0  100.0  72.4  2005  \n",
       "1         73.6    99.8   93.4   53.3   56.6   70.9  66.9  2005  \n",
       "2         73.4    41.1   72.2   88.5   70.9   72.3  65.0  2005  \n",
       "3         72.8    71.8   76.0   69.4   73.9   72.2  52.7  2005  \n",
       "4         70.1    74.0   80.6   66.7   65.8   64.3  53.0  2005  "
      ]
     },
     "execution_count": 4,
     "metadata": {},
     "output_type": "execute_result"
    }
   ],
   "source": [
    "ratings.head()"
   ]
  },
  {
   "cell_type": "code",
   "execution_count": 5,
   "id": "c0cb75a4",
   "metadata": {},
   "outputs": [
    {
     "data": {
      "text/plain": [
       "(4897, 11)"
      ]
     },
     "execution_count": 5,
     "metadata": {},
     "output_type": "execute_result"
    }
   ],
   "source": [
    "ratings.shape"
   ]
  },
  {
   "cell_type": "code",
   "execution_count": 6,
   "id": "b5df5b4f",
   "metadata": {},
   "outputs": [
    {
     "data": {
      "text/plain": [
       "world_rank        object\n",
       "institution       object\n",
       "national_rank     object\n",
       "total_score      float64\n",
       "alumni           float64\n",
       "award            float64\n",
       "hici             float64\n",
       "ns               float64\n",
       "pub              float64\n",
       "pcp              float64\n",
       "year               int64\n",
       "dtype: object"
      ]
     },
     "execution_count": 6,
     "metadata": {},
     "output_type": "execute_result"
    }
   ],
   "source": [
    "ratings.dtypes"
   ]
  },
  {
   "cell_type": "code",
   "execution_count": 7,
   "id": "073da65e",
   "metadata": {},
   "outputs": [
    {
     "data": {
      "text/html": [
       "<div>\n",
       "<style scoped>\n",
       "    .dataframe tbody tr th:only-of-type {\n",
       "        vertical-align: middle;\n",
       "    }\n",
       "\n",
       "    .dataframe tbody tr th {\n",
       "        vertical-align: top;\n",
       "    }\n",
       "\n",
       "    .dataframe thead th {\n",
       "        text-align: right;\n",
       "    }\n",
       "</style>\n",
       "<table border=\"1\" class=\"dataframe\">\n",
       "  <thead>\n",
       "    <tr style=\"text-align: right;\">\n",
       "      <th></th>\n",
       "      <th>institution</th>\n",
       "      <th>country</th>\n",
       "    </tr>\n",
       "  </thead>\n",
       "  <tbody>\n",
       "    <tr>\n",
       "      <th>0</th>\n",
       "      <td>Harvard University</td>\n",
       "      <td>United States of America</td>\n",
       "    </tr>\n",
       "    <tr>\n",
       "      <th>1</th>\n",
       "      <td>Massachusetts Institute of Technology</td>\n",
       "      <td>United States of America</td>\n",
       "    </tr>\n",
       "    <tr>\n",
       "      <th>2</th>\n",
       "      <td>Stanford University</td>\n",
       "      <td>United States of America</td>\n",
       "    </tr>\n",
       "    <tr>\n",
       "      <th>3</th>\n",
       "      <td>University of Cambridge</td>\n",
       "      <td>United Kingdom</td>\n",
       "    </tr>\n",
       "    <tr>\n",
       "      <th>4</th>\n",
       "      <td>California Institute of Technology</td>\n",
       "      <td>United States of America</td>\n",
       "    </tr>\n",
       "  </tbody>\n",
       "</table>\n",
       "</div>"
      ],
      "text/plain": [
       "                             institution                   country\n",
       "0                     Harvard University  United States of America\n",
       "1  Massachusetts Institute of Technology  United States of America\n",
       "2                    Stanford University  United States of America\n",
       "3                University of Cambridge            United Kingdom\n",
       "4     California Institute of Technology  United States of America"
      ]
     },
     "execution_count": 7,
     "metadata": {},
     "output_type": "execute_result"
    }
   ],
   "source": [
    "countries.head()"
   ]
  },
  {
   "cell_type": "code",
   "execution_count": 8,
   "id": "47978d8a",
   "metadata": {},
   "outputs": [
    {
     "data": {
      "text/plain": [
       "(1024, 2)"
      ]
     },
     "execution_count": 8,
     "metadata": {},
     "output_type": "execute_result"
    }
   ],
   "source": [
    "countries.shape"
   ]
  },
  {
   "cell_type": "code",
   "execution_count": 9,
   "id": "814d6f18",
   "metadata": {},
   "outputs": [
    {
     "data": {
      "text/plain": [
       "institution    object\n",
       "country        object\n",
       "dtype: object"
      ]
     },
     "execution_count": 9,
     "metadata": {},
     "output_type": "execute_result"
    }
   ],
   "source": [
    "countries.dtypes"
   ]
  },
  {
   "cell_type": "code",
   "execution_count": 10,
   "id": "c7d29d91",
   "metadata": {},
   "outputs": [],
   "source": [
    "# The Shanghai world university rankings dataset does not have a country for columns, \n",
    "# so we must merge that in from another rankings dataset.\n",
    "\n",
    "ratings_2 = ratings.merge(countries, on = 'institution', indicator = True)"
   ]
  },
  {
   "cell_type": "code",
   "execution_count": 11,
   "id": "82f4b6f3",
   "metadata": {},
   "outputs": [
    {
     "data": {
      "text/html": [
       "<div>\n",
       "<style scoped>\n",
       "    .dataframe tbody tr th:only-of-type {\n",
       "        vertical-align: middle;\n",
       "    }\n",
       "\n",
       "    .dataframe tbody tr th {\n",
       "        vertical-align: top;\n",
       "    }\n",
       "\n",
       "    .dataframe thead th {\n",
       "        text-align: right;\n",
       "    }\n",
       "</style>\n",
       "<table border=\"1\" class=\"dataframe\">\n",
       "  <thead>\n",
       "    <tr style=\"text-align: right;\">\n",
       "      <th></th>\n",
       "      <th>world_rank</th>\n",
       "      <th>institution</th>\n",
       "      <th>national_rank</th>\n",
       "      <th>total_score</th>\n",
       "      <th>alumni</th>\n",
       "      <th>award</th>\n",
       "      <th>hici</th>\n",
       "      <th>ns</th>\n",
       "      <th>pub</th>\n",
       "      <th>pcp</th>\n",
       "      <th>year</th>\n",
       "      <th>country</th>\n",
       "      <th>_merge</th>\n",
       "    </tr>\n",
       "  </thead>\n",
       "  <tbody>\n",
       "    <tr>\n",
       "      <th>0</th>\n",
       "      <td>1</td>\n",
       "      <td>Harvard University</td>\n",
       "      <td>1</td>\n",
       "      <td>100.0</td>\n",
       "      <td>100.0</td>\n",
       "      <td>100.0</td>\n",
       "      <td>100.0</td>\n",
       "      <td>100.0</td>\n",
       "      <td>100.0</td>\n",
       "      <td>72.4</td>\n",
       "      <td>2005</td>\n",
       "      <td>United States of America</td>\n",
       "      <td>both</td>\n",
       "    </tr>\n",
       "    <tr>\n",
       "      <th>1</th>\n",
       "      <td>1</td>\n",
       "      <td>Harvard University</td>\n",
       "      <td>1</td>\n",
       "      <td>100.0</td>\n",
       "      <td>100.0</td>\n",
       "      <td>100.0</td>\n",
       "      <td>100.0</td>\n",
       "      <td>100.0</td>\n",
       "      <td>100.0</td>\n",
       "      <td>73.6</td>\n",
       "      <td>2006</td>\n",
       "      <td>United States of America</td>\n",
       "      <td>both</td>\n",
       "    </tr>\n",
       "    <tr>\n",
       "      <th>2</th>\n",
       "      <td>1</td>\n",
       "      <td>Harvard University</td>\n",
       "      <td>1</td>\n",
       "      <td>100.0</td>\n",
       "      <td>100.0</td>\n",
       "      <td>100.0</td>\n",
       "      <td>100.0</td>\n",
       "      <td>100.0</td>\n",
       "      <td>100.0</td>\n",
       "      <td>73.0</td>\n",
       "      <td>2007</td>\n",
       "      <td>United States of America</td>\n",
       "      <td>both</td>\n",
       "    </tr>\n",
       "    <tr>\n",
       "      <th>3</th>\n",
       "      <td>1</td>\n",
       "      <td>Harvard University</td>\n",
       "      <td>1</td>\n",
       "      <td>100.0</td>\n",
       "      <td>100.0</td>\n",
       "      <td>100.0</td>\n",
       "      <td>100.0</td>\n",
       "      <td>100.0</td>\n",
       "      <td>100.0</td>\n",
       "      <td>74.1</td>\n",
       "      <td>2008</td>\n",
       "      <td>United States of America</td>\n",
       "      <td>both</td>\n",
       "    </tr>\n",
       "    <tr>\n",
       "      <th>4</th>\n",
       "      <td>1</td>\n",
       "      <td>Harvard University</td>\n",
       "      <td>1</td>\n",
       "      <td>100.0</td>\n",
       "      <td>100.0</td>\n",
       "      <td>100.0</td>\n",
       "      <td>100.0</td>\n",
       "      <td>100.0</td>\n",
       "      <td>100.0</td>\n",
       "      <td>74.8</td>\n",
       "      <td>2009</td>\n",
       "      <td>United States of America</td>\n",
       "      <td>both</td>\n",
       "    </tr>\n",
       "  </tbody>\n",
       "</table>\n",
       "</div>"
      ],
      "text/plain": [
       "  world_rank         institution national_rank  total_score  alumni  award  \\\n",
       "0          1  Harvard University             1        100.0   100.0  100.0   \n",
       "1          1  Harvard University             1        100.0   100.0  100.0   \n",
       "2          1  Harvard University             1        100.0   100.0  100.0   \n",
       "3          1  Harvard University             1        100.0   100.0  100.0   \n",
       "4          1  Harvard University             1        100.0   100.0  100.0   \n",
       "\n",
       "    hici     ns    pub   pcp  year                   country _merge  \n",
       "0  100.0  100.0  100.0  72.4  2005  United States of America   both  \n",
       "1  100.0  100.0  100.0  73.6  2006  United States of America   both  \n",
       "2  100.0  100.0  100.0  73.0  2007  United States of America   both  \n",
       "3  100.0  100.0  100.0  74.1  2008  United States of America   both  \n",
       "4  100.0  100.0  100.0  74.8  2009  United States of America   both  "
      ]
     },
     "execution_count": 11,
     "metadata": {},
     "output_type": "execute_result"
    }
   ],
   "source": [
    "ratings_2.head()"
   ]
  },
  {
   "cell_type": "code",
   "execution_count": 12,
   "id": "59eaffd2",
   "metadata": {},
   "outputs": [
    {
     "data": {
      "text/plain": [
       "(3347, 13)"
      ]
     },
     "execution_count": 12,
     "metadata": {},
     "output_type": "execute_result"
    }
   ],
   "source": [
    "ratings_2.shape"
   ]
  },
  {
   "cell_type": "code",
   "execution_count": 29,
   "id": "8b131ef7",
   "metadata": {
    "scrolled": true
   },
   "outputs": [
    {
     "data": {
      "text/plain": [
       "world_rank          0\n",
       "institution         0\n",
       "national_rank       0\n",
       "total_score      2621\n",
       "alumni              0\n",
       "award               1\n",
       "hici                1\n",
       "ns                  3\n",
       "pub                 1\n",
       "pcp                 1\n",
       "year                0\n",
       "country             0\n",
       "_merge              0\n",
       "dtype: int64"
      ]
     },
     "execution_count": 29,
     "metadata": {},
     "output_type": "execute_result"
    }
   ],
   "source": [
    "ratings_2.isnull().sum()"
   ]
  },
  {
   "cell_type": "code",
   "execution_count": 34,
   "id": "b0a55f53",
   "metadata": {
    "scrolled": true
   },
   "outputs": [],
   "source": [
    "# Drop rows without the variable to be explored, \"total_score\"\n",
    "ratings_2 = ratings_2.dropna(subset = ['total_score'])"
   ]
  },
  {
   "cell_type": "code",
   "execution_count": 35,
   "id": "6509ce49",
   "metadata": {},
   "outputs": [
    {
     "data": {
      "text/plain": [
       "world_rank       0\n",
       "institution      0\n",
       "national_rank    0\n",
       "total_score      0\n",
       "alumni           0\n",
       "award            0\n",
       "hici             0\n",
       "ns               0\n",
       "pub              0\n",
       "pcp              0\n",
       "year             0\n",
       "country          0\n",
       "_merge           0\n",
       "dtype: int64"
      ]
     },
     "execution_count": 35,
     "metadata": {},
     "output_type": "execute_result"
    }
   ],
   "source": [
    "ratings_2.isnull().sum()"
   ]
  },
  {
   "cell_type": "code",
   "execution_count": 36,
   "id": "0c628011",
   "metadata": {
    "scrolled": false
   },
   "outputs": [
    {
     "data": {
      "text/plain": [
       "year\n",
       "2007    67\n",
       "2009    67\n",
       "2010    67\n",
       "2015    67\n",
       "2005    66\n",
       "2006    66\n",
       "2008    66\n",
       "2011    66\n",
       "2012    65\n",
       "2013    65\n",
       "2014    64\n",
       "Name: count, dtype: int64"
      ]
     },
     "execution_count": 36,
     "metadata": {},
     "output_type": "execute_result"
    }
   ],
   "source": [
    "ratings_2['year'].value_counts()"
   ]
  },
  {
   "cell_type": "markdown",
   "id": "c2ee54e4",
   "metadata": {},
   "source": [
    "## Data Wrangling"
   ]
  },
  {
   "cell_type": "code",
   "execution_count": 37,
   "id": "2849f449",
   "metadata": {},
   "outputs": [
    {
     "data": {
      "text/plain": [
       "institution\n",
       "Kyoto University                 11\n",
       "Osaka University                 11\n",
       "Tohoku University                 7\n",
       "Nagoya University                 7\n",
       "Tokyo Institute of Technology     3\n",
       "Name: count, dtype: int64"
      ]
     },
     "execution_count": 37,
     "metadata": {},
     "output_type": "execute_result"
    }
   ],
   "source": [
    "# Examine different countries to find a single country to focus on\n",
    "# Check Japan's depth of universities in the dataset\n",
    "ratings_2.loc[ratings_2['country'] == 'Japan']['institution'].value_counts()"
   ]
  },
  {
   "cell_type": "code",
   "execution_count": 38,
   "id": "8370b879",
   "metadata": {},
   "outputs": [],
   "source": [
    "# Check the annual average total scores of a few different countries\n",
    "country_agg = ratings_2.groupby(['country', 'year']).agg({'total_score' : 'mean'}).reset_index()"
   ]
  },
  {
   "cell_type": "code",
   "execution_count": 43,
   "id": "4ae38e0b",
   "metadata": {},
   "outputs": [
    {
     "data": {
      "text/html": [
       "<div>\n",
       "<style scoped>\n",
       "    .dataframe tbody tr th:only-of-type {\n",
       "        vertical-align: middle;\n",
       "    }\n",
       "\n",
       "    .dataframe tbody tr th {\n",
       "        vertical-align: top;\n",
       "    }\n",
       "\n",
       "    .dataframe thead th {\n",
       "        text-align: right;\n",
       "    }\n",
       "</style>\n",
       "<table border=\"1\" class=\"dataframe\">\n",
       "  <thead>\n",
       "    <tr style=\"text-align: right;\">\n",
       "      <th></th>\n",
       "      <th>country</th>\n",
       "      <th>year</th>\n",
       "      <th>total_score</th>\n",
       "    </tr>\n",
       "  </thead>\n",
       "  <tbody>\n",
       "    <tr>\n",
       "      <th>64</th>\n",
       "      <td>Japan</td>\n",
       "      <td>2005</td>\n",
       "      <td>31.375000</td>\n",
       "    </tr>\n",
       "    <tr>\n",
       "      <th>65</th>\n",
       "      <td>Japan</td>\n",
       "      <td>2006</td>\n",
       "      <td>29.940000</td>\n",
       "    </tr>\n",
       "    <tr>\n",
       "      <th>66</th>\n",
       "      <td>Japan</td>\n",
       "      <td>2007</td>\n",
       "      <td>29.340000</td>\n",
       "    </tr>\n",
       "    <tr>\n",
       "      <th>67</th>\n",
       "      <td>Japan</td>\n",
       "      <td>2008</td>\n",
       "      <td>32.966667</td>\n",
       "    </tr>\n",
       "    <tr>\n",
       "      <th>68</th>\n",
       "      <td>Japan</td>\n",
       "      <td>2009</td>\n",
       "      <td>30.575000</td>\n",
       "    </tr>\n",
       "    <tr>\n",
       "      <th>69</th>\n",
       "      <td>Japan</td>\n",
       "      <td>2010</td>\n",
       "      <td>30.725000</td>\n",
       "    </tr>\n",
       "    <tr>\n",
       "      <th>70</th>\n",
       "      <td>Japan</td>\n",
       "      <td>2011</td>\n",
       "      <td>29.050000</td>\n",
       "    </tr>\n",
       "    <tr>\n",
       "      <th>71</th>\n",
       "      <td>Japan</td>\n",
       "      <td>2012</td>\n",
       "      <td>30.533333</td>\n",
       "    </tr>\n",
       "    <tr>\n",
       "      <th>72</th>\n",
       "      <td>Japan</td>\n",
       "      <td>2013</td>\n",
       "      <td>33.150000</td>\n",
       "    </tr>\n",
       "    <tr>\n",
       "      <th>73</th>\n",
       "      <td>Japan</td>\n",
       "      <td>2014</td>\n",
       "      <td>33.350000</td>\n",
       "    </tr>\n",
       "    <tr>\n",
       "      <th>74</th>\n",
       "      <td>Japan</td>\n",
       "      <td>2015</td>\n",
       "      <td>30.433333</td>\n",
       "    </tr>\n",
       "  </tbody>\n",
       "</table>\n",
       "</div>"
      ],
      "text/plain": [
       "   country  year  total_score\n",
       "64   Japan  2005    31.375000\n",
       "65   Japan  2006    29.940000\n",
       "66   Japan  2007    29.340000\n",
       "67   Japan  2008    32.966667\n",
       "68   Japan  2009    30.575000\n",
       "69   Japan  2010    30.725000\n",
       "70   Japan  2011    29.050000\n",
       "71   Japan  2012    30.533333\n",
       "72   Japan  2013    33.150000\n",
       "73   Japan  2014    33.350000\n",
       "74   Japan  2015    30.433333"
      ]
     },
     "execution_count": 43,
     "metadata": {},
     "output_type": "execute_result"
    }
   ],
   "source": [
    "japan = country_agg.loc[country_agg['country'] == 'Japan']\n",
    "japan"
   ]
  },
  {
   "cell_type": "code",
   "execution_count": 40,
   "id": "40a0c3be",
   "metadata": {},
   "outputs": [
    {
     "data": {
      "text/html": [
       "<div>\n",
       "<style scoped>\n",
       "    .dataframe tbody tr th:only-of-type {\n",
       "        vertical-align: middle;\n",
       "    }\n",
       "\n",
       "    .dataframe tbody tr th {\n",
       "        vertical-align: top;\n",
       "    }\n",
       "\n",
       "    .dataframe thead th {\n",
       "        text-align: right;\n",
       "    }\n",
       "</style>\n",
       "<table border=\"1\" class=\"dataframe\">\n",
       "  <thead>\n",
       "    <tr style=\"text-align: right;\">\n",
       "      <th></th>\n",
       "      <th>country</th>\n",
       "      <th>year</th>\n",
       "      <th>total_score</th>\n",
       "    </tr>\n",
       "  </thead>\n",
       "  <tbody>\n",
       "    <tr>\n",
       "      <th>130</th>\n",
       "      <td>United States of America</td>\n",
       "      <td>2005</td>\n",
       "      <td>42.327027</td>\n",
       "    </tr>\n",
       "    <tr>\n",
       "      <th>131</th>\n",
       "      <td>United States of America</td>\n",
       "      <td>2006</td>\n",
       "      <td>42.081081</td>\n",
       "    </tr>\n",
       "    <tr>\n",
       "      <th>132</th>\n",
       "      <td>United States of America</td>\n",
       "      <td>2007</td>\n",
       "      <td>42.091892</td>\n",
       "    </tr>\n",
       "    <tr>\n",
       "      <th>133</th>\n",
       "      <td>United States of America</td>\n",
       "      <td>2008</td>\n",
       "      <td>42.054054</td>\n",
       "    </tr>\n",
       "    <tr>\n",
       "      <th>134</th>\n",
       "      <td>United States of America</td>\n",
       "      <td>2009</td>\n",
       "      <td>41.434211</td>\n",
       "    </tr>\n",
       "    <tr>\n",
       "      <th>135</th>\n",
       "      <td>United States of America</td>\n",
       "      <td>2010</td>\n",
       "      <td>41.697297</td>\n",
       "    </tr>\n",
       "    <tr>\n",
       "      <th>136</th>\n",
       "      <td>United States of America</td>\n",
       "      <td>2011</td>\n",
       "      <td>42.341667</td>\n",
       "    </tr>\n",
       "    <tr>\n",
       "      <th>137</th>\n",
       "      <td>United States of America</td>\n",
       "      <td>2012</td>\n",
       "      <td>42.269444</td>\n",
       "    </tr>\n",
       "    <tr>\n",
       "      <th>138</th>\n",
       "      <td>United States of America</td>\n",
       "      <td>2013</td>\n",
       "      <td>42.685714</td>\n",
       "    </tr>\n",
       "    <tr>\n",
       "      <th>139</th>\n",
       "      <td>United States of America</td>\n",
       "      <td>2014</td>\n",
       "      <td>40.411111</td>\n",
       "    </tr>\n",
       "    <tr>\n",
       "      <th>140</th>\n",
       "      <td>United States of America</td>\n",
       "      <td>2015</td>\n",
       "      <td>41.367568</td>\n",
       "    </tr>\n",
       "  </tbody>\n",
       "</table>\n",
       "</div>"
      ],
      "text/plain": [
       "                      country  year  total_score\n",
       "130  United States of America  2005    42.327027\n",
       "131  United States of America  2006    42.081081\n",
       "132  United States of America  2007    42.091892\n",
       "133  United States of America  2008    42.054054\n",
       "134  United States of America  2009    41.434211\n",
       "135  United States of America  2010    41.697297\n",
       "136  United States of America  2011    42.341667\n",
       "137  United States of America  2012    42.269444\n",
       "138  United States of America  2013    42.685714\n",
       "139  United States of America  2014    40.411111\n",
       "140  United States of America  2015    41.367568"
      ]
     },
     "execution_count": 40,
     "metadata": {},
     "output_type": "execute_result"
    }
   ],
   "source": [
    "country_agg.loc[country_agg['country'] == 'United States of America']"
   ]
  },
  {
   "cell_type": "code",
   "execution_count": 41,
   "id": "731f80e0",
   "metadata": {},
   "outputs": [
    {
     "data": {
      "text/html": [
       "<div>\n",
       "<style scoped>\n",
       "    .dataframe tbody tr th:only-of-type {\n",
       "        vertical-align: middle;\n",
       "    }\n",
       "\n",
       "    .dataframe tbody tr th {\n",
       "        vertical-align: top;\n",
       "    }\n",
       "\n",
       "    .dataframe thead th {\n",
       "        text-align: right;\n",
       "    }\n",
       "</style>\n",
       "<table border=\"1\" class=\"dataframe\">\n",
       "  <thead>\n",
       "    <tr style=\"text-align: right;\">\n",
       "      <th></th>\n",
       "      <th>country</th>\n",
       "      <th>year</th>\n",
       "      <th>total_score</th>\n",
       "    </tr>\n",
       "  </thead>\n",
       "  <tbody>\n",
       "    <tr>\n",
       "      <th>119</th>\n",
       "      <td>United Kingdom</td>\n",
       "      <td>2005</td>\n",
       "      <td>40.157143</td>\n",
       "    </tr>\n",
       "    <tr>\n",
       "      <th>120</th>\n",
       "      <td>United Kingdom</td>\n",
       "      <td>2006</td>\n",
       "      <td>39.800000</td>\n",
       "    </tr>\n",
       "    <tr>\n",
       "      <th>121</th>\n",
       "      <td>United Kingdom</td>\n",
       "      <td>2007</td>\n",
       "      <td>39.457143</td>\n",
       "    </tr>\n",
       "    <tr>\n",
       "      <th>122</th>\n",
       "      <td>United Kingdom</td>\n",
       "      <td>2008</td>\n",
       "      <td>39.828571</td>\n",
       "    </tr>\n",
       "    <tr>\n",
       "      <th>123</th>\n",
       "      <td>United Kingdom</td>\n",
       "      <td>2009</td>\n",
       "      <td>39.900000</td>\n",
       "    </tr>\n",
       "    <tr>\n",
       "      <th>124</th>\n",
       "      <td>United Kingdom</td>\n",
       "      <td>2010</td>\n",
       "      <td>39.728571</td>\n",
       "    </tr>\n",
       "    <tr>\n",
       "      <th>125</th>\n",
       "      <td>United Kingdom</td>\n",
       "      <td>2011</td>\n",
       "      <td>42.400000</td>\n",
       "    </tr>\n",
       "    <tr>\n",
       "      <th>126</th>\n",
       "      <td>United Kingdom</td>\n",
       "      <td>2012</td>\n",
       "      <td>42.016667</td>\n",
       "    </tr>\n",
       "    <tr>\n",
       "      <th>127</th>\n",
       "      <td>United Kingdom</td>\n",
       "      <td>2013</td>\n",
       "      <td>42.016667</td>\n",
       "    </tr>\n",
       "    <tr>\n",
       "      <th>128</th>\n",
       "      <td>United Kingdom</td>\n",
       "      <td>2014</td>\n",
       "      <td>45.700000</td>\n",
       "    </tr>\n",
       "    <tr>\n",
       "      <th>129</th>\n",
       "      <td>United Kingdom</td>\n",
       "      <td>2015</td>\n",
       "      <td>42.133333</td>\n",
       "    </tr>\n",
       "  </tbody>\n",
       "</table>\n",
       "</div>"
      ],
      "text/plain": [
       "            country  year  total_score\n",
       "119  United Kingdom  2005    40.157143\n",
       "120  United Kingdom  2006    39.800000\n",
       "121  United Kingdom  2007    39.457143\n",
       "122  United Kingdom  2008    39.828571\n",
       "123  United Kingdom  2009    39.900000\n",
       "124  United Kingdom  2010    39.728571\n",
       "125  United Kingdom  2011    42.400000\n",
       "126  United Kingdom  2012    42.016667\n",
       "127  United Kingdom  2013    42.016667\n",
       "128  United Kingdom  2014    45.700000\n",
       "129  United Kingdom  2015    42.133333"
      ]
     },
     "execution_count": 41,
     "metadata": {},
     "output_type": "execute_result"
    }
   ],
   "source": [
    "country_agg.loc[country_agg['country'] == 'United Kingdom']"
   ]
  },
  {
   "cell_type": "code",
   "execution_count": 42,
   "id": "069ae37b",
   "metadata": {
    "scrolled": false
   },
   "outputs": [
    {
     "data": {
      "text/html": [
       "<div>\n",
       "<style scoped>\n",
       "    .dataframe tbody tr th:only-of-type {\n",
       "        vertical-align: middle;\n",
       "    }\n",
       "\n",
       "    .dataframe tbody tr th {\n",
       "        vertical-align: top;\n",
       "    }\n",
       "\n",
       "    .dataframe thead th {\n",
       "        text-align: right;\n",
       "    }\n",
       "</style>\n",
       "<table border=\"1\" class=\"dataframe\">\n",
       "  <thead>\n",
       "    <tr style=\"text-align: right;\">\n",
       "      <th></th>\n",
       "      <th>country</th>\n",
       "      <th>year</th>\n",
       "      <th>total_score</th>\n",
       "    </tr>\n",
       "  </thead>\n",
       "  <tbody>\n",
       "  </tbody>\n",
       "</table>\n",
       "</div>"
      ],
      "text/plain": [
       "Empty DataFrame\n",
       "Columns: [country, year, total_score]\n",
       "Index: []"
      ]
     },
     "execution_count": 42,
     "metadata": {},
     "output_type": "execute_result"
    }
   ],
   "source": [
    "country_agg.loc[country_agg['country'] == 'China']"
   ]
  },
  {
   "cell_type": "markdown",
   "id": "9840edca",
   "metadata": {},
   "source": [
    "For this task, I will pick one country and use the average university scores from that country each year for my time-series analysis."
   ]
  },
  {
   "cell_type": "code",
   "execution_count": 58,
   "id": "981113e1",
   "metadata": {},
   "outputs": [
    {
     "data": {
      "text/plain": [
       "Index(['country', 'year', 'total_score'], dtype='object')"
      ]
     },
     "execution_count": 58,
     "metadata": {},
     "output_type": "execute_result"
    }
   ],
   "source": [
    "japan.columns"
   ]
  },
  {
   "cell_type": "code",
   "execution_count": 62,
   "id": "8d55d958",
   "metadata": {
    "scrolled": false
   },
   "outputs": [
    {
     "data": {
      "text/html": [
       "<div>\n",
       "<style scoped>\n",
       "    .dataframe tbody tr th:only-of-type {\n",
       "        vertical-align: middle;\n",
       "    }\n",
       "\n",
       "    .dataframe tbody tr th {\n",
       "        vertical-align: top;\n",
       "    }\n",
       "\n",
       "    .dataframe thead th {\n",
       "        text-align: right;\n",
       "    }\n",
       "</style>\n",
       "<table border=\"1\" class=\"dataframe\">\n",
       "  <thead>\n",
       "    <tr style=\"text-align: right;\">\n",
       "      <th></th>\n",
       "      <th>year</th>\n",
       "      <th>total_score</th>\n",
       "    </tr>\n",
       "  </thead>\n",
       "  <tbody>\n",
       "    <tr>\n",
       "      <th>64</th>\n",
       "      <td>2005</td>\n",
       "      <td>31.375000</td>\n",
       "    </tr>\n",
       "    <tr>\n",
       "      <th>65</th>\n",
       "      <td>2006</td>\n",
       "      <td>29.940000</td>\n",
       "    </tr>\n",
       "    <tr>\n",
       "      <th>66</th>\n",
       "      <td>2007</td>\n",
       "      <td>29.340000</td>\n",
       "    </tr>\n",
       "    <tr>\n",
       "      <th>67</th>\n",
       "      <td>2008</td>\n",
       "      <td>32.966667</td>\n",
       "    </tr>\n",
       "    <tr>\n",
       "      <th>68</th>\n",
       "      <td>2009</td>\n",
       "      <td>30.575000</td>\n",
       "    </tr>\n",
       "    <tr>\n",
       "      <th>69</th>\n",
       "      <td>2010</td>\n",
       "      <td>30.725000</td>\n",
       "    </tr>\n",
       "    <tr>\n",
       "      <th>70</th>\n",
       "      <td>2011</td>\n",
       "      <td>29.050000</td>\n",
       "    </tr>\n",
       "    <tr>\n",
       "      <th>71</th>\n",
       "      <td>2012</td>\n",
       "      <td>30.533333</td>\n",
       "    </tr>\n",
       "    <tr>\n",
       "      <th>72</th>\n",
       "      <td>2013</td>\n",
       "      <td>33.150000</td>\n",
       "    </tr>\n",
       "    <tr>\n",
       "      <th>73</th>\n",
       "      <td>2014</td>\n",
       "      <td>33.350000</td>\n",
       "    </tr>\n",
       "    <tr>\n",
       "      <th>74</th>\n",
       "      <td>2015</td>\n",
       "      <td>30.433333</td>\n",
       "    </tr>\n",
       "  </tbody>\n",
       "</table>\n",
       "</div>"
      ],
      "text/plain": [
       "    year  total_score\n",
       "64  2005    31.375000\n",
       "65  2006    29.940000\n",
       "66  2007    29.340000\n",
       "67  2008    32.966667\n",
       "68  2009    30.575000\n",
       "69  2010    30.725000\n",
       "70  2011    29.050000\n",
       "71  2012    30.533333\n",
       "72  2013    33.150000\n",
       "73  2014    33.350000\n",
       "74  2015    30.433333"
      ]
     },
     "execution_count": 62,
     "metadata": {},
     "output_type": "execute_result"
    }
   ],
   "source": [
    "# Choose Japan as the subject country and create a subset of the data suitable for time series analysis\n",
    "japan_sub = japan[['year', 'total_score']]\n",
    "japan_sub"
   ]
  },
  {
   "cell_type": "code",
   "execution_count": 63,
   "id": "a1066840",
   "metadata": {},
   "outputs": [
    {
     "data": {
      "text/plain": [
       "Index(['year', 'total_score'], dtype='object')"
      ]
     },
     "execution_count": 63,
     "metadata": {},
     "output_type": "execute_result"
    }
   ],
   "source": [
    "japan_sub.columns"
   ]
  },
  {
   "cell_type": "code",
   "execution_count": 64,
   "id": "1bab728a",
   "metadata": {},
   "outputs": [
    {
     "data": {
      "text/html": [
       "<div>\n",
       "<style scoped>\n",
       "    .dataframe tbody tr th:only-of-type {\n",
       "        vertical-align: middle;\n",
       "    }\n",
       "\n",
       "    .dataframe tbody tr th {\n",
       "        vertical-align: top;\n",
       "    }\n",
       "\n",
       "    .dataframe thead th {\n",
       "        text-align: right;\n",
       "    }\n",
       "</style>\n",
       "<table border=\"1\" class=\"dataframe\">\n",
       "  <thead>\n",
       "    <tr style=\"text-align: right;\">\n",
       "      <th></th>\n",
       "      <th>total_score</th>\n",
       "    </tr>\n",
       "    <tr>\n",
       "      <th>datetime</th>\n",
       "      <th></th>\n",
       "    </tr>\n",
       "  </thead>\n",
       "  <tbody>\n",
       "    <tr>\n",
       "      <th>2005-01-01</th>\n",
       "      <td>31.375000</td>\n",
       "    </tr>\n",
       "    <tr>\n",
       "      <th>2006-01-01</th>\n",
       "      <td>29.940000</td>\n",
       "    </tr>\n",
       "    <tr>\n",
       "      <th>2007-01-01</th>\n",
       "      <td>29.340000</td>\n",
       "    </tr>\n",
       "    <tr>\n",
       "      <th>2008-01-01</th>\n",
       "      <td>32.966667</td>\n",
       "    </tr>\n",
       "    <tr>\n",
       "      <th>2009-01-01</th>\n",
       "      <td>30.575000</td>\n",
       "    </tr>\n",
       "  </tbody>\n",
       "</table>\n",
       "</div>"
      ],
      "text/plain": [
       "            total_score\n",
       "datetime               \n",
       "2005-01-01    31.375000\n",
       "2006-01-01    29.940000\n",
       "2007-01-01    29.340000\n",
       "2008-01-01    32.966667\n",
       "2009-01-01    30.575000"
      ]
     },
     "execution_count": 64,
     "metadata": {},
     "output_type": "execute_result"
    }
   ],
   "source": [
    "# Set the \"year\" column as the index\n",
    "\n",
    "from datetime import datetime\n",
    "\n",
    "japan_sub['datetime'] = pd.to_datetime(japan_sub['year'], format = '%Y') \n",
    "japan_sub = japan_sub.set_index('datetime') \n",
    "japan_sub.drop(['year'], axis=1, inplace=True) \n",
    "japan_sub.head()"
   ]
  },
  {
   "cell_type": "code",
   "execution_count": 65,
   "id": "4f3a8f72",
   "metadata": {},
   "outputs": [
    {
     "data": {
      "text/plain": [
       "[<matplotlib.lines.Line2D at 0x247bdc38450>]"
      ]
     },
     "execution_count": 65,
     "metadata": {},
     "output_type": "execute_result"
    },
    {
     "data": {
      "image/png": "[encoded data removed]",
      "text/plain": [
       "<Figure size 1500x500 with 1 Axes>"
      ]
     },
     "metadata": {},
     "output_type": "display_data"
    }
   ],
   "source": [
    "# Plot the data using matplotlib.\n",
    "\n",
    "plt.figure(figsize=(15,5), dpi=100) \n",
    "\n",
    "plt.plot(japan_sub)"
   ]
  },
  {
   "cell_type": "code",
   "execution_count": null,
   "id": "eaa2f0eb",
   "metadata": {},
   "outputs": [],
   "source": [
    "# Further data cleaning"
   ]
  },
  {
   "cell_type": "code",
   "execution_count": 66,
   "id": "4ee79643",
   "metadata": {},
   "outputs": [
    {
     "data": {
      "text/plain": [
       "total_score    0\n",
       "dtype: int64"
      ]
     },
     "execution_count": 66,
     "metadata": {},
     "output_type": "execute_result"
    }
   ],
   "source": [
    "japan_sub.isnull().sum()"
   ]
  },
  {
   "cell_type": "code",
   "execution_count": 67,
   "id": "7789d32a",
   "metadata": {},
   "outputs": [
    {
     "data": {
      "text/plain": [
       "0"
      ]
     },
     "execution_count": 67,
     "metadata": {},
     "output_type": "execute_result"
    }
   ],
   "source": [
    "dups = japan_sub.duplicated()\n",
    "dups.sum()"
   ]
  },
  {
   "cell_type": "markdown",
   "id": "a30d954a",
   "metadata": {},
   "source": [
    "## Decomposition"
   ]
  },
  {
   "cell_type": "code",
   "execution_count": 68,
   "id": "d532fbf2",
   "metadata": {},
   "outputs": [],
   "source": [
    "# Decompose the time series using an additive model\n",
    "\n",
    "decomposition = sm.tsa.seasonal_decompose(japan_sub, model='additive')"
   ]
  },
  {
   "cell_type": "code",
   "execution_count": 69,
   "id": "91743c34",
   "metadata": {},
   "outputs": [],
   "source": [
    "from pylab import rcParams \n",
    "\n",
    "rcParams['figure.figsize'] = 18, 7"
   ]
  },
  {
   "cell_type": "code",
   "execution_count": 70,
   "id": "20b5b93a",
   "metadata": {},
   "outputs": [
    {
     "data": {
      "image/png": "[encoded data removed]",
      "text/plain": [
       "<Figure size 1800x700 with 4 Axes>"
      ]
     },
     "metadata": {},
     "output_type": "display_data"
    }
   ],
   "source": [
    "# Plot the separate components\n",
    "\n",
    "decomposition.plot()\n",
    "plt.show()"
   ]
  },
  {
   "cell_type": "markdown",
   "id": "7520b59f",
   "metadata": {},
   "source": [
    "The trend appears to be identical to the level. This trend seems to reflect a slight cycle where the average total score fluctuates slightly up and down every few years. There appears to be no seasonality. This is likely because the events in the dataset occur once every year instead of multiple times per year, so the data may not be granular enough for seasonality to be applicable. There also appears to be no noise."
   ]
  },
  {
   "cell_type": "markdown",
   "id": "c6f811ec",
   "metadata": {},
   "source": [
    "## Testing for stationarity"
   ]
  },
  {
   "cell_type": "code",
   "execution_count": 71,
   "id": "8b2c2f9f",
   "metadata": {},
   "outputs": [
    {
     "name": "stdout",
     "output_type": "stream",
     "text": [
      "Dickey-Fuller Stationarity test:\n",
      "Test Statistic                -1.937092\n",
      "p-value                        0.314818\n",
      "Number of Lags Used            3.000000\n",
      "Number of Observations Used    7.000000\n",
      "Critical Value (1%)           -4.938690\n",
      "Critical Value (5%)           -3.477583\n",
      "Critical Value (10%)          -2.843868\n",
      "dtype: float64\n"
     ]
    }
   ],
   "source": [
    "# Import the adfuller() function\n",
    "from statsmodels.tsa.stattools import adfuller \n",
    "\n",
    "def dickey_fuller(timeseries): # Define the function\n",
    "    # Perform the Dickey-Fuller test:\n",
    "    print ('Dickey-Fuller Stationarity test:')\n",
    "    test = adfuller(timeseries, autolag='AIC')\n",
    "    result = pd.Series(test[0:4], index=['Test Statistic','p-value','Number of Lags Used','Number of Observations Used'])\n",
    "    for key,value in test[4].items():\n",
    "       result['Critical Value (%s)'%key] = value\n",
    "    print (result)\n",
    "\n",
    "# Apply the test using the function on the time series\n",
    "dickey_fuller(japan_sub['total_score'])"
   ]
  },
  {
   "cell_type": "markdown",
   "id": "fbb8e9ab",
   "metadata": {},
   "source": [
    "In order to determine that the data is stationary, we have to show that there is no unit root present in the data.\n",
    "The null hypothesis is that there is a unit root. The alternative hypothesis is that there is no unit root.\n",
    "\n",
    "In order to disprove the null hypothesis, our test statistic must be lower than the critical value at the significance level we are using. The p-value of our statistical test must also be less than 0.05. \n",
    "\n",
    "The results of the test above do not meet those thresholds, so a round of differencing must be conducted."
   ]
  },
  {
   "cell_type": "code",
   "execution_count": 72,
   "id": "8b801916",
   "metadata": {},
   "outputs": [],
   "source": [
    "# Round 1 of Differencing\n",
    "japan_diff = japan_sub - japan_sub.shift(1)"
   ]
  },
  {
   "cell_type": "code",
   "execution_count": 73,
   "id": "8fa3a494",
   "metadata": {},
   "outputs": [],
   "source": [
    "# Remove missing values produced from the differencing\n",
    "japan_diff.dropna(inplace = True) "
   ]
  },
  {
   "cell_type": "code",
   "execution_count": 74,
   "id": "57dbd9c9",
   "metadata": {},
   "outputs": [
    {
     "data": {
      "text/html": [
       "<div>\n",
       "<style scoped>\n",
       "    .dataframe tbody tr th:only-of-type {\n",
       "        vertical-align: middle;\n",
       "    }\n",
       "\n",
       "    .dataframe tbody tr th {\n",
       "        vertical-align: top;\n",
       "    }\n",
       "\n",
       "    .dataframe thead th {\n",
       "        text-align: right;\n",
       "    }\n",
       "</style>\n",
       "<table border=\"1\" class=\"dataframe\">\n",
       "  <thead>\n",
       "    <tr style=\"text-align: right;\">\n",
       "      <th></th>\n",
       "      <th>total_score</th>\n",
       "    </tr>\n",
       "    <tr>\n",
       "      <th>datetime</th>\n",
       "      <th></th>\n",
       "    </tr>\n",
       "  </thead>\n",
       "  <tbody>\n",
       "    <tr>\n",
       "      <th>2006-01-01</th>\n",
       "      <td>-1.435000</td>\n",
       "    </tr>\n",
       "    <tr>\n",
       "      <th>2007-01-01</th>\n",
       "      <td>-0.600000</td>\n",
       "    </tr>\n",
       "    <tr>\n",
       "      <th>2008-01-01</th>\n",
       "      <td>3.626667</td>\n",
       "    </tr>\n",
       "    <tr>\n",
       "      <th>2009-01-01</th>\n",
       "      <td>-2.391667</td>\n",
       "    </tr>\n",
       "    <tr>\n",
       "      <th>2010-01-01</th>\n",
       "      <td>0.150000</td>\n",
       "    </tr>\n",
       "  </tbody>\n",
       "</table>\n",
       "</div>"
      ],
      "text/plain": [
       "            total_score\n",
       "datetime               \n",
       "2006-01-01    -1.435000\n",
       "2007-01-01    -0.600000\n",
       "2008-01-01     3.626667\n",
       "2009-01-01    -2.391667\n",
       "2010-01-01     0.150000"
      ]
     },
     "execution_count": 74,
     "metadata": {},
     "output_type": "execute_result"
    }
   ],
   "source": [
    "japan_diff.head()"
   ]
  },
  {
   "cell_type": "code",
   "execution_count": 76,
   "id": "05068bf0",
   "metadata": {},
   "outputs": [
    {
     "data": {
      "text/plain": [
       "Index(['total_score'], dtype='object')"
      ]
     },
     "execution_count": 76,
     "metadata": {},
     "output_type": "execute_result"
    }
   ],
   "source": [
    "japan_diff.columns"
   ]
  },
  {
   "cell_type": "code",
   "execution_count": 78,
   "id": "4738b8ef",
   "metadata": {},
   "outputs": [
    {
     "data": {
      "text/plain": [
       "[<matplotlib.lines.Line2D at 0x247bdee1750>]"
      ]
     },
     "execution_count": 78,
     "metadata": {},
     "output_type": "execute_result"
    },
    {
     "data": {
      "image/png": "[encoded data removed]",
      "text/plain": [
       "<Figure size 1500x500 with 1 Axes>"
      ]
     },
     "metadata": {},
     "output_type": "display_data"
    }
   ],
   "source": [
    "# Effects of differencing visualized\n",
    "\n",
    "plt.figure(figsize=(15,5), dpi=100)\n",
    "plt.plot(japan_diff)"
   ]
  },
  {
   "cell_type": "code",
   "execution_count": 79,
   "id": "dfa3b7ca",
   "metadata": {},
   "outputs": [
    {
     "name": "stdout",
     "output_type": "stream",
     "text": [
      "Dickey-Fuller Stationarity test:\n",
      "Test Statistic                -1.379309e+01\n",
      "p-value                        8.851353e-26\n",
      "Number of Lags Used            3.000000e+00\n",
      "Number of Observations Used    6.000000e+00\n",
      "Critical Value (1%)           -5.354256e+00\n",
      "Critical Value (5%)           -3.646238e+00\n",
      "Critical Value (10%)          -2.901198e+00\n",
      "dtype: float64\n"
     ]
    }
   ],
   "source": [
    "dickey_fuller(japan_diff)"
   ]
  },
  {
   "cell_type": "markdown",
   "id": "8c634f0c",
   "metadata": {},
   "source": [
    "The test statistic is -13.79309. This is lower than the Critical Value (5%), -3.646238. It is also lower than the two other critical values. The p-value is 8.851353 x 10^-26, which is lower than 0.05.\n",
    "\n",
    "The results passes the thresholds, so we can move onto the next step and check for autocorrelation."
   ]
  },
  {
   "cell_type": "code",
   "execution_count": 81,
   "id": "14b431c2",
   "metadata": {},
   "outputs": [
    {
     "data": {
      "image/png": "[encoded data removed]",
      "text/plain": [
       "<Figure size 1800x700 with 1 Axes>"
      ]
     },
     "metadata": {},
     "output_type": "display_data"
    }
   ],
   "source": [
    "# Check out a plot of autocorrelations\n",
    "\n",
    "from statsmodels.graphics.tsaplots import plot_acf, plot_pacf \n",
    "\n",
    "plot_acf(japan_diff)\n",
    "plt.show()"
   ]
  },
  {
   "cell_type": "markdown",
   "id": "f43198e0",
   "metadata": {},
   "source": [
    "None of the lag bars are tall enough to exceed the area covered by the confidence interval."
   ]
  }
 ],
 "metadata": {
  "kernelspec": {
   "display_name": "Python 3 (ipykernel)",
   "language": "python",
   "name": "python3"
  },
  "language_info": {
   "codemirror_mode": {
    "name": "ipython",
    "version": 3
   },
   "file_extension": ".py",
   "mimetype": "text/x-python",
   "name": "python",
   "nbconvert_exporter": "python",
   "pygments_lexer": "ipython3",
   "version": "3.11.5"
  }
 },
 "nbformat": 4,
 "nbformat_minor": 5
}
